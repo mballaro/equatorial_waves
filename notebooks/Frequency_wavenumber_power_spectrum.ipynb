{
 "cells": [
  {
   "cell_type": "code",
   "execution_count": null,
   "id": "rural-louis",
   "metadata": {},
   "outputs": [],
   "source": [
    "import xarray as xr\n",
    "import xrft\n",
    "import glob\n",
    "import numpy as np\n",
    "import matplotlib.pylab as plt\n",
    "import scipy as sp"
   ]
  },
  {
   "cell_type": "markdown",
   "id": "persistent-wallet",
   "metadata": {},
   "source": [
    "#### Start cluster"
   ]
  },
  {
   "cell_type": "code",
   "execution_count": null,
   "id": "later-procedure",
   "metadata": {},
   "outputs": [],
   "source": [
    "import os\n",
    "os.environ['SGE_ROOT'] = '/opt/sge'"
   ]
  },
  {
   "cell_type": "code",
   "execution_count": null,
   "id": "external-sacramento",
   "metadata": {},
   "outputs": [],
   "source": [
    "from distributed import Client, LocalCluster\n",
    "import dask_jobqueue\n",
    "\n",
    "# cluster = LocalCluster()\n",
    "\n",
    "cluster = dask_jobqueue.SGECluster(queue='short',\n",
    "                                   cores=8,\n",
    "                                   memory='4GB',\n",
    "                                   resource_spec='mem_total=8G',\n",
    "                                   processes=1,\n",
    "                                   local_directory='$TMPDIR')\n",
    "cluster.scale(40)\n",
    "\n",
    "client = Client(cluster)\n",
    "client"
   ]
  },
  {
   "cell_type": "markdown",
   "id": "exempt-portsmouth",
   "metadata": {},
   "source": [
    "### Compute PSD(x,t) MIOST"
   ]
  },
  {
   "cell_type": "markdown",
   "id": "behind-monster",
   "metadata": {},
   "source": [
    "#### Read dataset"
   ]
  },
  {
   "cell_type": "code",
   "execution_count": null,
   "id": "closed-elimination",
   "metadata": {},
   "outputs": [],
   "source": [
    "ds_miost = xr.open_zarr('/data/MSA_ETU/mballarotta/ETUDE_MIOST/MIOST_PROD_allsat_DT2018_WAVES_PACIFIC_20080101_20181231.zarr')\n",
    "ds_miost = ds_miost.sel(longitude=slice(180, 280), latitude=slice(-10, 10), drop=True)\n",
    "ds_miost"
   ]
  },
  {
   "cell_type": "markdown",
   "id": "colored-utility",
   "metadata": {},
   "source": [
    "#### Rearrange and persist dataset"
   ]
  },
  {
   "cell_type": "code",
   "execution_count": null,
   "id": "social-essay",
   "metadata": {},
   "outputs": [],
   "source": [
    "adt = ds_miost['Hmeso'] + ds_miost['Htiw'] + ds_miost['Hpoincare'] + ds_miost['MDH']\n",
    "adt = client.persist(adt)\n",
    "adt = adt.chunk({'time': -1, 'longitude': -1, 'latitude': 1})\n",
    "adt['time'] = np.arange(adt.time.size)\n",
    "adt"
   ]
  },
  {
   "cell_type": "markdown",
   "id": "attached-sleep",
   "metadata": {},
   "source": [
    "#### PSD computation"
   ]
  },
  {
   "cell_type": "code",
   "execution_count": null,
   "id": "incorporate-plant",
   "metadata": {},
   "outputs": [],
   "source": [
    "psd_xt = xrft.power_spectrum(adt*100, dim=['time', 'longitude'], detrend='constant', window=True)\n",
    "psd_xt = psd_xt.rename('psd_xt')\n",
    "mean_psd_xt = psd_xt.mean(dim='latitude')\n",
    "mean_psd_xt = mean_psd_xt.where((mean_psd_xt.freq_time > 0), drop=True).compute()\n",
    "mean_psd_xt"
   ]
  },
  {
   "cell_type": "code",
   "execution_count": null,
   "id": "rocky-personal",
   "metadata": {},
   "outputs": [],
   "source": [
    "mean_psd_xt.to_netcdf('psd_xt_adt_miost_20080101-20181231.nc')"
   ]
  },
  {
   "cell_type": "code",
   "execution_count": null,
   "id": "suitable-oxide",
   "metadata": {},
   "outputs": [],
   "source": [
    "del adt\n",
    "del psd_xt\n",
    "del mean_psd_xt"
   ]
  },
  {
   "cell_type": "markdown",
   "id": "sustainable-operation",
   "metadata": {},
   "source": [
    "### Compute PSD(x,t) DUACS"
   ]
  },
  {
   "cell_type": "markdown",
   "id": "natural-madrid",
   "metadata": {},
   "source": [
    "#### Read dataset"
   ]
  },
  {
   "cell_type": "code",
   "execution_count": null,
   "id": "hearing-package",
   "metadata": {},
   "outputs": [],
   "source": [
    "ds_duacs = xr.open_zarr('/data/MSA_ETU/mballarotta/ETUDE_MIOST/V2018_dt_global_allsat_phy_l4_20080101_20181231.zarr')\n",
    "ds_duacs = ds_duacs.sel(longitude=slice(180, 280), latitude=slice(-10, 10), drop=True)\n",
    "ds_duacs"
   ]
  },
  {
   "cell_type": "markdown",
   "id": "treated-neighborhood",
   "metadata": {},
   "source": [
    "#### Rearrange and persist dataset"
   ]
  },
  {
   "cell_type": "code",
   "execution_count": null,
   "id": "champion-homeless",
   "metadata": {},
   "outputs": [],
   "source": [
    "adt = ds_duacs['adt']\n",
    "adt = client.persist(adt)\n",
    "adt = adt.chunk({'time': -1, 'longitude': -1, 'latitude': 1})\n",
    "adt['time'] = np.arange(adt.time.size)\n",
    "adt"
   ]
  },
  {
   "cell_type": "markdown",
   "id": "regulated-nepal",
   "metadata": {},
   "source": [
    "#### PSD computation"
   ]
  },
  {
   "cell_type": "code",
   "execution_count": null,
   "id": "practical-nylon",
   "metadata": {},
   "outputs": [],
   "source": [
    "psd_xt = xrft.power_spectrum(adt*100, dim=['time', 'longitude'], detrend='constant', window=True)\n",
    "psd_xt = psd_xt.rename('psd_xt')\n",
    "mean_psd_xt = psd_xt.mean(dim='latitude')\n",
    "mean_psd_xt = mean_psd_xt.where((mean_psd_xt.freq_time > 0), drop=True).compute()\n",
    "mean_psd_xt"
   ]
  },
  {
   "cell_type": "code",
   "execution_count": null,
   "id": "conscious-residence",
   "metadata": {},
   "outputs": [],
   "source": [
    "mean_psd_xt.to_netcdf('psd_xt_adt_duacs_20080101-20181231.nc')"
   ]
  },
  {
   "cell_type": "code",
   "execution_count": null,
   "id": "municipal-demonstration",
   "metadata": {},
   "outputs": [],
   "source": [
    "del adt\n",
    "del psd_xt\n",
    "del mean_psd_xt"
   ]
  },
  {
   "cell_type": "markdown",
   "id": "educational-guest",
   "metadata": {},
   "source": [
    "### Compute PSD(x,t) GLORYS12v1"
   ]
  },
  {
   "cell_type": "markdown",
   "id": "modified-royal",
   "metadata": {},
   "source": [
    "#### Read dataset"
   ]
  },
  {
   "cell_type": "code",
   "execution_count": null,
   "id": "collect-limitation",
   "metadata": {},
   "outputs": [],
   "source": [
    "ds_glorys12v1 = xr.open_zarr('/data/MSA_ETU/mballarotta/ETUDE_MIOST/global-reanalysis-phy-001-030-daily_20080101_20181231.zarr')\n",
    "ds_glorys12v1 = ds_glorys12v1.sel(longitude=slice(180, 280), latitude=slice(-10, 10), drop=True)\n",
    "ds_glorys12v1"
   ]
  },
  {
   "cell_type": "markdown",
   "id": "speaking-treasurer",
   "metadata": {},
   "source": [
    "#### Rearrange and persist dataset"
   ]
  },
  {
   "cell_type": "code",
   "execution_count": null,
   "id": "baking-metabolism",
   "metadata": {},
   "outputs": [],
   "source": [
    "adt = ds_glorys12v1['zos']\n",
    "adt = client.persist(adt)\n",
    "adt = adt.chunk({'time': -1, 'longitude': -1, 'latitude': 1})\n",
    "adt['time'] = np.arange(adt.time.size)\n",
    "adt"
   ]
  },
  {
   "cell_type": "markdown",
   "id": "creative-fundamentals",
   "metadata": {},
   "source": [
    "#### PSD computation"
   ]
  },
  {
   "cell_type": "code",
   "execution_count": null,
   "id": "radio-surfing",
   "metadata": {},
   "outputs": [],
   "source": [
    "psd_xt = xrft.power_spectrum(adt*100, dim=['time', 'longitude'], detrend='constant', window=True)\n",
    "psd_xt = psd_xt.rename('psd_xt')\n",
    "mean_psd_xt = psd_xt.mean(dim='latitude')\n",
    "mean_psd_xt = mean_psd_xt.where((mean_psd_xt.freq_time > 0), drop=True).compute()\n",
    "mean_psd_xt"
   ]
  },
  {
   "cell_type": "code",
   "execution_count": null,
   "id": "hollywood-quantum",
   "metadata": {},
   "outputs": [],
   "source": [
    "mean_psd_xt.to_netcdf('psd_xt_adt_glorys12v1_20080101-20181231.nc')"
   ]
  },
  {
   "cell_type": "code",
   "execution_count": null,
   "id": "secure-graphic",
   "metadata": {},
   "outputs": [],
   "source": []
  },
  {
   "cell_type": "code",
   "execution_count": null,
   "id": "reported-trade",
   "metadata": {},
   "outputs": [],
   "source": []
  },
  {
   "cell_type": "markdown",
   "id": "certified-jason",
   "metadata": {},
   "source": [
    "### PLOT PSD"
   ]
  },
  {
   "cell_type": "code",
   "execution_count": null,
   "id": "female-tokyo",
   "metadata": {},
   "outputs": [],
   "source": [
    "mean_psd_xt_miost = xr.open_dataset('psd_xt_adt_miost_20080101-20181231.nc')\n",
    "mean_psd_xt_duacs = xr.open_dataset('psd_xt_adt_duacs_20080101-20181231.nc')\n",
    "mean_psd_xt_glorys12v1 = xr.open_dataset('psd_xt_adt_glorys12v1_20080101-20181231.nc')"
   ]
  },
  {
   "cell_type": "code",
   "execution_count": null,
   "id": "temporal-induction",
   "metadata": {},
   "outputs": [],
   "source": [
    "import proplot as plot"
   ]
  },
  {
   "cell_type": "code",
   "execution_count": null,
   "id": "domestic-consultation",
   "metadata": {},
   "outputs": [],
   "source": [
    "def plot_psd():\n",
    "    \n",
    "    ZONAL_MIOST = mean_psd_xt_miost.freq_longitude.values\n",
    "    FREQ_MIOST = mean_psd_xt_miost.freq_time.values\n",
    "    #PSD_MIOST = sp.ndimage.filters.gaussian_filter(mean_psd_xt_miost.psd_xt.values, [2, 0], mode='constant')\n",
    "    PSD_MIOST = mean_psd_xt_miost.psd_xt.values\n",
    "    \n",
    "    ZONAL_DUACS = mean_psd_xt_duacs.freq_longitude.values\n",
    "    FREQ_DUACS = mean_psd_xt_duacs.freq_time.values\n",
    "    #PSD_DUACS = sp.ndimage.filters.gaussian_filter(mean_psd_xt_duacs.psd_xt.values, [2, 0], mode='constant')\n",
    "    PSD_DUACS = mean_psd_xt_duacs.psd_xt.values\n",
    "    \n",
    "    ZONAL_GLORYS12v1 = mean_psd_xt_glorys12v1.freq_longitude.values\n",
    "    FREQ_GLORYS12v1 = mean_psd_xt_glorys12v1.freq_time.values\n",
    "    #PSD_GLORYS12v1 = sp.ndimage.filters.gaussian_filter(mean_psd_xt_glorys12v1.psd_xt.values, [2, 0], mode='constant')\n",
    "    PSD_GLORYS12v1 = mean_psd_xt_glorys12v1.psd_xt.values\n",
    "    \n",
    "    vmin = 0.\n",
    "    vmax = 2\n",
    "    deltav = 0.25\n",
    "            \n",
    "    xtick1 = np.arange(-0.2, 0.25, 0.05)\n",
    "    ytick1 = np.arange(0., 0.35, 0.05)\n",
    "    xtick2 = 1./np.ma.masked_where(xtick1 == 0., xtick1)\n",
    "    ytick2 = 1./np.ma.masked_where(ytick1 == 0., ytick1)\n",
    "    xtick2 = np.ma.masked_outside(xtick2, -100000000, 100000000).filled(np.inf)\n",
    "    ytick2 = np.ma.masked_outside(ytick2, -100000000, 100000000).filled(np.inf)\n",
    "\n",
    "    omega = 7.3*1.e-5\n",
    "    R = 6371000\n",
    "    beta = 2*omega/R\n",
    "    c = 2.7\n",
    "    kx = ZONAL_MIOST/111000\n",
    "    n=2\n",
    "    w = -beta*c*kx/(c*(kx**2)+(2*n+1)*beta)\n",
    "    w = -beta*kx/((kx**2)+(2*n+1)*beta*c)\n",
    "    # dispersion relation Equatorial gravity wave\n",
    "    n = 1\n",
    "    eq_gravity_wave_n1 = np.sqrt((2*n+1)*beta*c + kx*kx*c*c)*(24*3600)/(2*np.pi)\n",
    "    n = 2\n",
    "    eq_gravity_wave_n2 = np.sqrt((2*n+1)*beta*c + kx*kx*c*c)*(24*3600)/(2*np.pi)\n",
    "    n = 3\n",
    "    eq_gravity_wave_n3 = np.sqrt((2*n+1)*beta*c + kx*kx*c*c)*(24*3600)/(2*np.pi)\n",
    "    # dispersion relation for equatorially trapped Kelvin waves\n",
    "    kelvin_wave = c * kx *(24*3600)/(2*np.pi)\n",
    "    # dispersion relation for Rossby-poincare wave\n",
    "    mixed_rossby_poincare = (0.5 * c * kx + np.sqrt(0.25*(kx*c)**2 + beta*c))*(24*3600)/(2*np.pi)\n",
    "    # dispersion relation rossby wave\n",
    "    n = 1\n",
    "    rossby_wave_n1 = -beta*c*kx/(c*(kx**2)+(2*n+1)*beta)*(24*3600)/(2*np.pi)\n",
    "    n = 2\n",
    "    rossby_wave_n2 = -beta*c*kx/(c*(kx**2)+(2*n+1)*beta)*(24*3600)/(2*np.pi)\n",
    "    n = 3\n",
    "    rossby_wave_n3 = -beta*c*kx/(c*(kx**2)+(2*n+1)*beta)*(24*3600)/(2*np.pi)\n",
    "    \n",
    "    def plot_dispersion_relation(ax):\n",
    "        ax.plot(ZONAL_MIOST/(2*np.pi), eq_gravity_wave_n1, color='w', alpha=0.5)\n",
    "        ax.plot(ZONAL_MIOST/(2*np.pi), eq_gravity_wave_n2, color='w', alpha=0.5)\n",
    "        ax.plot(ZONAL_MIOST/(2*np.pi), eq_gravity_wave_n3, color='w', alpha=0.5)\n",
    "        ax.plot(ZONAL_MIOST/(2*np.pi), kelvin_wave, color='w', alpha=0.5)\n",
    "        ax.plot(ZONAL_MIOST/(2*np.pi), mixed_rossby_poincare, color='w', alpha=0.5)\n",
    "        ax.plot(ZONAL_MIOST/(2*np.pi), rossby_wave_n1, color='w', alpha=0.7)\n",
    "        ax.plot(ZONAL_MIOST/(2*np.pi), rossby_wave_n2, color='w', alpha=0.7)\n",
    "        ax.plot(ZONAL_MIOST/(2*np.pi), rossby_wave_n3, color='w', alpha=0.7)\n",
    "        \n",
    "    cmap='Spectral_r'\n",
    "    cmap='jet'\n",
    "    cmap='nipy_spectral'\n",
    "    #fig = plt.figure(figsize=(15, 12))\n",
    "    fig = plt.figure(figsize=(10, 6))\n",
    "    \n",
    "    plt.subplots_adjust(wspace=0.5)\n",
    "        \n",
    "    ax1 = fig.add_subplot(131)\n",
    "    cs = plt.contourf(ZONAL_DUACS, FREQ_DUACS, np.log10(PSD_DUACS[:, ::-1]), cmap=cmap, levels=np.arange(vmin, vmax+deltav, deltav), extend='both') \n",
    "    #cs = plt.pcolormesh(ZONAL1, FREQ, np.log10(PSD), cmap='Spectral_r', vmin=-2, vmax=3.4)#, levels=np.arange(-2, 3, 0.01), extend='both')\n",
    "    cb = plt.colorbar(cs, orientation='horizontal', pad=0.1)\n",
    "    cb.set_ticks(np.arange(-2, 3, 1))\n",
    "    cb.set_label('Log$_{10}$ of spectral density (cm$^{2}$/cpd/deg$^{-1}$)')\n",
    "    plot_dispersion_relation(ax1)\n",
    "    plt.axvline(x=0., linewidth=1, color='k')\n",
    "    plt.xlabel(\"Zonal wavenumber (deg$^{-1}$)\", fontweight='bold')\n",
    "    plt.ylabel('Frequency (cpd)', fontweight='bold')\n",
    "    ax1.set_xlim(-0.2, 0.2, 0.05)\n",
    "    ax1.set_ylim(0, 0.3, 0.05)\n",
    "    ax1.grid()\n",
    "    ax2 = ax1.twiny()\n",
    "    ax2.set_xticks(xtick1)\n",
    "    xtick2_string = [\"%2.0f\" % x for x in xtick2]\n",
    "    ax2.set_xticklabels(xtick2_string)\n",
    "    ax2.set_xlabel(\"Zonal wavenumber (deg.)\", fontweight='bold')\n",
    "    ax2.set_xlim(-0.2, 0.2, 0.05)\n",
    "    ax3 = ax1.twinx()\n",
    "    ax3.set_yticks(ytick1)\n",
    "    ytick2_string = [\"%2.0f\" % y for y in ytick2]\n",
    "    ax3.set_yticklabels(ytick2_string)\n",
    "    ax3.set_ylabel(\"Period (days)\", fontweight='bold')\n",
    "    ax3.set_ylim(0, 0.3, 0.05)\n",
    "    plt.title('DUACS')\n",
    "    \n",
    "    ax1 = fig.add_subplot(132)\n",
    "    cs = plt.contourf(ZONAL_MIOST, FREQ_MIOST, np.log10(PSD_MIOST[:, ::-1]), cmap=cmap, levels=np.arange(vmin, vmax+deltav, deltav), extend='both') \n",
    "    cb = plt.colorbar(cs, orientation='horizontal', pad=0.1)\n",
    "    cb.set_ticks(np.arange(-2, 3, 1))\n",
    "    cb.set_label('Log$_{10}$ of spectral density (cm$^{2}$/cpd/deg$^{-1}$)')\n",
    "    plot_dispersion_relation(ax1)\n",
    "    plt.axvline(x=0., linewidth=1, color='k')\n",
    "    plt.xlabel(\"Zonal wavenumber (deg$^{-1}$)\", fontweight='bold')\n",
    "    plt.ylabel('Frequency (cpd)', fontweight='bold')\n",
    "    ax1.set_xlim(-0.2, 0.2, 0.05)\n",
    "    ax1.set_ylim(0, 0.3, 0.05)\n",
    "    ax1.grid()\n",
    "    ax2 = ax1.twiny()\n",
    "    ax2.set_xticks(xtick1)\n",
    "    xtick2_string = [\"%2.0f\" % x for x in xtick2]\n",
    "    ax2.set_xticklabels(xtick2_string)\n",
    "    ax2.set_xlabel(\"Zonal wavenumber (deg.)\", fontweight='bold')\n",
    "    ax2.set_xlim(-0.2, 0.2, 0.05)\n",
    "    ax3 = ax1.twinx()\n",
    "    ax3.set_yticks(ytick1)\n",
    "    ytick2_string = [\"%2.0f\" % y for y in ytick2]\n",
    "    ax3.set_yticklabels(ytick2_string)\n",
    "    ax3.set_ylabel(\"Period (days)\", fontweight='bold')\n",
    "    ax3.set_ylim(0, 0.3, 0.05)\n",
    "    plt.title('MIOST')\n",
    "    \n",
    "    ax1 = fig.add_subplot(133)\n",
    "    cs = plt.contourf(ZONAL_GLORYS12v1, FREQ_GLORYS12v1, np.log10(PSD_GLORYS12v1[:, ::-1]), cmap=cmap, levels=np.arange(vmin, vmax+deltav, deltav), extend='both') \n",
    "    cb = plt.colorbar(cs, orientation='horizontal', pad=0.1)\n",
    "    cb.set_ticks(np.arange(-2, 3, 1))\n",
    "    cb.set_label('Log$_{10}$ of spectral density (cm$^{2}$/cpd/deg$^{-1}$)')\n",
    "    plot_dispersion_relation(ax1)\n",
    "    plt.axvline(x=0., linewidth=1, color='k')\n",
    "    plt.xlabel(\"Zonal wavenumber (deg$^{-1}$)\", fontweight='bold')\n",
    "    plt.ylabel('Frequency (cpd)', fontweight='bold')\n",
    "    ax1.set_xlim(-0.2, 0.2, 0.05)\n",
    "    ax1.set_ylim(0, 0.3, 0.05)\n",
    "    ax1.grid()\n",
    "    ax2 = ax1.twiny()\n",
    "    ax2.set_xticks(xtick1)\n",
    "    xtick2_string = [\"%2.0f\" % x for x in xtick2]\n",
    "    ax2.set_xticklabels(xtick2_string)\n",
    "    ax2.set_xlabel(\"Zonal wavenumber (deg.)\", fontweight='bold')\n",
    "    ax2.set_xlim(-0.2, 0.2, 0.05)\n",
    "    ax3 = ax1.twinx()\n",
    "    ax3.set_yticks(ytick1)\n",
    "    ytick2_string = [\"%2.0f\" % y for y in ytick2]\n",
    "    ax3.set_yticklabels(ytick2_string)\n",
    "    ax3.set_ylabel(\"Period (days)\", fontweight='bold')\n",
    "    ax3.set_ylim(0, 0.3, 0.05)\n",
    "    plt.title('GLORYS12v1')\n",
    "    \n",
    "    plt.savefig('psd_xt_miost_waves_duacs_glorys12v1_2008-2018.png', dpi=100, facecolor=fig.get_facecolor(), transparent=True, bbox_inches='tight')\n"
   ]
  },
  {
   "cell_type": "code",
   "execution_count": null,
   "id": "middle-consistency",
   "metadata": {},
   "outputs": [],
   "source": [
    "plot_psd()"
   ]
  },
  {
   "cell_type": "code",
   "execution_count": null,
   "id": "lovely-princeton",
   "metadata": {},
   "outputs": [],
   "source": [
    "client.close()\n",
    "cluster.close()"
   ]
  },
  {
   "cell_type": "code",
   "execution_count": null,
   "id": "compressed-change",
   "metadata": {},
   "outputs": [],
   "source": []
  }
 ],
 "metadata": {
  "kernelspec": {
   "display_name": "conda_env",
   "language": "python",
   "name": "conda_env"
  },
  "language_info": {
   "codemirror_mode": {
    "name": "ipython",
    "version": 3
   },
   "file_extension": ".py",
   "mimetype": "text/x-python",
   "name": "python",
   "nbconvert_exporter": "python",
   "pygments_lexer": "ipython3",
   "version": "3.7.8"
  }
 },
 "nbformat": 4,
 "nbformat_minor": 5
}
